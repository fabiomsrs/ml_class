{
 "cells": [
  {
   "cell_type": "markdown",
   "metadata": {},
   "source": [
    "# Questão 1 e 2"
   ]
  },
  {
   "cell_type": "markdown",
   "metadata": {},
   "source": [
    "DATASET\n",
    "-Nome: Contraceptive Method Choice Data Set(Conjunto de dados sobre escolhas de metodos contraceptivos)\n",
    "\n",
    "-Volume de dados: 1473 amostras.\n",
    "\n",
    "-Descrição: Este dataset é um subconjunto de um estudo feito na Indonésia sobre a prevalência métodos contraceptivos. O estudo foi feito baseado em mulheres casadas que não estavam grávidas ou não sabiam se estavam grávidas no momento da intrevista.\n",
    "\n",
    "-Objetivo: O objetivo é prever qual metodo contraceptivo(no use, long-term methods, or short-term methods) é utilizado com base nas características demograficas e socioeconomica da mulher.\n",
    "\n",
    "-Colunas: 1. Idade da esposa (numerico) \n",
    "\t\t2. Nível de educação da Esposa (categorico) 1=low, 2, 3, 4=high \n",
    "\t\t3. Nível de educação do marido (categorico) 1=low, 2, 3, 4=high \n",
    "\t\t4. Quantidade de filhos (numerico) \n",
    "\t\t5. Religião da esposa (binario) 0=Non-Islam, 1=Islam \n",
    "\t\t6. Esposa possui trabalho? (binario) 0=Yes, 1=No \n",
    "\t\t7. Ocupação do marido (categorico) 1, 2, 3, 4 \n",
    "\t\t8. padrao de vida index (categorico) 1=low, 2, 3, 4=high \n",
    "\t\t9. Exposição a midia (binario) 0=Good, 1=Not good \n",
    "\t\t10. Metodo contraceptivo utilizado (class attribute) 1=No-use, 2=Long-term, 3=Short-term\n",
    "\n",
    "-Campos Nulos: nenhum\n",
    "\n",
    "-Variaveis Categoricas: Nível de educação da Esposa; Nível de educação do marido; Ocupação do marido; padrao_de_vida index."
   ]
  },
  {
   "cell_type": "code",
   "execution_count": 232,
   "metadata": {},
   "outputs": [
    {
     "data": {
      "text/html": [
       "<div>\n",
       "<style scoped>\n",
       "    .dataframe tbody tr th:only-of-type {\n",
       "        vertical-align: middle;\n",
       "    }\n",
       "\n",
       "    .dataframe tbody tr th {\n",
       "        vertical-align: top;\n",
       "    }\n",
       "\n",
       "    .dataframe thead th {\n",
       "        text-align: right;\n",
       "    }\n",
       "</style>\n",
       "<table border=\"1\" class=\"dataframe\">\n",
       "  <thead>\n",
       "    <tr style=\"text-align: right;\">\n",
       "      <th></th>\n",
       "      <th>idade_esposa</th>\n",
       "      <th>educacao_esposa</th>\n",
       "      <th>educacao_marido</th>\n",
       "      <th>quantidade_filhos</th>\n",
       "      <th>religiao_esposa</th>\n",
       "      <th>eposa_trabalha</th>\n",
       "      <th>marido_ocupacao</th>\n",
       "      <th>padrao_de_vida</th>\n",
       "      <th>exposicao_midia</th>\n",
       "      <th>metodo_contraceptivo</th>\n",
       "    </tr>\n",
       "  </thead>\n",
       "  <tbody>\n",
       "    <tr>\n",
       "      <th>1216</th>\n",
       "      <td>31</td>\n",
       "      <td>high</td>\n",
       "      <td>high</td>\n",
       "      <td>4</td>\n",
       "      <td>1</td>\n",
       "      <td>1</td>\n",
       "      <td>good</td>\n",
       "      <td>good</td>\n",
       "      <td>0</td>\n",
       "      <td>2</td>\n",
       "    </tr>\n",
       "    <tr>\n",
       "      <th>1472</th>\n",
       "      <td>17</td>\n",
       "      <td>good</td>\n",
       "      <td>good</td>\n",
       "      <td>1</td>\n",
       "      <td>1</td>\n",
       "      <td>1</td>\n",
       "      <td>regular</td>\n",
       "      <td>high</td>\n",
       "      <td>0</td>\n",
       "      <td>3</td>\n",
       "    </tr>\n",
       "    <tr>\n",
       "      <th>154</th>\n",
       "      <td>47</td>\n",
       "      <td>low</td>\n",
       "      <td>regular</td>\n",
       "      <td>4</td>\n",
       "      <td>1</td>\n",
       "      <td>1</td>\n",
       "      <td>regular</td>\n",
       "      <td>regular</td>\n",
       "      <td>0</td>\n",
       "      <td>1</td>\n",
       "    </tr>\n",
       "    <tr>\n",
       "      <th>199</th>\n",
       "      <td>32</td>\n",
       "      <td>regular</td>\n",
       "      <td>high</td>\n",
       "      <td>2</td>\n",
       "      <td>1</td>\n",
       "      <td>1</td>\n",
       "      <td>good</td>\n",
       "      <td>good</td>\n",
       "      <td>0</td>\n",
       "      <td>1</td>\n",
       "    </tr>\n",
       "    <tr>\n",
       "      <th>77</th>\n",
       "      <td>45</td>\n",
       "      <td>good</td>\n",
       "      <td>high</td>\n",
       "      <td>3</td>\n",
       "      <td>1</td>\n",
       "      <td>1</td>\n",
       "      <td>low</td>\n",
       "      <td>high</td>\n",
       "      <td>0</td>\n",
       "      <td>1</td>\n",
       "    </tr>\n",
       "    <tr>\n",
       "      <th>59</th>\n",
       "      <td>49</td>\n",
       "      <td>high</td>\n",
       "      <td>high</td>\n",
       "      <td>6</td>\n",
       "      <td>1</td>\n",
       "      <td>1</td>\n",
       "      <td>low</td>\n",
       "      <td>regular</td>\n",
       "      <td>0</td>\n",
       "      <td>1</td>\n",
       "    </tr>\n",
       "    <tr>\n",
       "      <th>554</th>\n",
       "      <td>28</td>\n",
       "      <td>high</td>\n",
       "      <td>high</td>\n",
       "      <td>4</td>\n",
       "      <td>1</td>\n",
       "      <td>1</td>\n",
       "      <td>low</td>\n",
       "      <td>good</td>\n",
       "      <td>0</td>\n",
       "      <td>2</td>\n",
       "    </tr>\n",
       "    <tr>\n",
       "      <th>535</th>\n",
       "      <td>24</td>\n",
       "      <td>regular</td>\n",
       "      <td>high</td>\n",
       "      <td>2</td>\n",
       "      <td>1</td>\n",
       "      <td>1</td>\n",
       "      <td>good</td>\n",
       "      <td>good</td>\n",
       "      <td>0</td>\n",
       "      <td>2</td>\n",
       "    </tr>\n",
       "    <tr>\n",
       "      <th>553</th>\n",
       "      <td>47</td>\n",
       "      <td>high</td>\n",
       "      <td>high</td>\n",
       "      <td>4</td>\n",
       "      <td>1</td>\n",
       "      <td>0</td>\n",
       "      <td>low</td>\n",
       "      <td>high</td>\n",
       "      <td>0</td>\n",
       "      <td>2</td>\n",
       "    </tr>\n",
       "    <tr>\n",
       "      <th>1007</th>\n",
       "      <td>31</td>\n",
       "      <td>good</td>\n",
       "      <td>high</td>\n",
       "      <td>2</td>\n",
       "      <td>1</td>\n",
       "      <td>1</td>\n",
       "      <td>good</td>\n",
       "      <td>good</td>\n",
       "      <td>0</td>\n",
       "      <td>1</td>\n",
       "    </tr>\n",
       "  </tbody>\n",
       "</table>\n",
       "</div>"
      ],
      "text/plain": [
       "      idade_esposa educacao_esposa educacao_marido  quantidade_filhos  \\\n",
       "1216            31            high            high                  4   \n",
       "1472            17            good            good                  1   \n",
       "154             47             low         regular                  4   \n",
       "199             32         regular            high                  2   \n",
       "77              45            good            high                  3   \n",
       "59              49            high            high                  6   \n",
       "554             28            high            high                  4   \n",
       "535             24         regular            high                  2   \n",
       "553             47            high            high                  4   \n",
       "1007            31            good            high                  2   \n",
       "\n",
       "      religiao_esposa  eposa_trabalha marido_ocupacao padrao_de_vida  \\\n",
       "1216                1               1            good           good   \n",
       "1472                1               1         regular           high   \n",
       "154                 1               1         regular        regular   \n",
       "199                 1               1            good           good   \n",
       "77                  1               1             low           high   \n",
       "59                  1               1             low        regular   \n",
       "554                 1               1             low           good   \n",
       "535                 1               1            good           good   \n",
       "553                 1               0             low           high   \n",
       "1007                1               1            good           good   \n",
       "\n",
       "      exposicao_midia  metodo_contraceptivo  \n",
       "1216                0                     2  \n",
       "1472                0                     3  \n",
       "154                 0                     1  \n",
       "199                 0                     1  \n",
       "77                  0                     1  \n",
       "59                  0                     1  \n",
       "554                 0                     2  \n",
       "535                 0                     2  \n",
       "553                 0                     2  \n",
       "1007                0                     1  "
      ]
     },
     "execution_count": 232,
     "metadata": {},
     "output_type": "execute_result"
    }
   ],
   "source": [
    "import pandas as pd\n",
    "from sklearn.naive_bayes import GaussianNB, BernoulliNB, MultinomialNB\n",
    "df = pd.read_csv('dataset.csv')\n",
    "\n",
    "for column in df[['educacao_esposa', 'educacao_marido', 'marido_ocupacao', 'padrao_de_vida']]:\n",
    "    low = df[column] == 1\n",
    "    regular = df[column] == 2\n",
    "    good = df[column] == 3\n",
    "    high = df[column] == 4\n",
    "    df.loc[low, column] = 'low'\n",
    "    df.loc[regular, column] = 'regular'\n",
    "    df.loc[good, column] = 'good'\n",
    "    df.loc[high, column] = 'high'\n",
    "\n",
    "df = df.sample(frac=1)\n",
    "df.head(10)"
   ]
  },
  {
   "cell_type": "code",
   "execution_count": 233,
   "metadata": {},
   "outputs": [
    {
     "data": {
      "text/html": [
       "<div>\n",
       "<style scoped>\n",
       "    .dataframe tbody tr th:only-of-type {\n",
       "        vertical-align: middle;\n",
       "    }\n",
       "\n",
       "    .dataframe tbody tr th {\n",
       "        vertical-align: top;\n",
       "    }\n",
       "\n",
       "    .dataframe thead th {\n",
       "        text-align: right;\n",
       "    }\n",
       "</style>\n",
       "<table border=\"1\" class=\"dataframe\">\n",
       "  <thead>\n",
       "    <tr style=\"text-align: right;\">\n",
       "      <th></th>\n",
       "      <th>idade_esposa</th>\n",
       "      <th>quantidade_filhos</th>\n",
       "      <th>religiao_esposa</th>\n",
       "      <th>eposa_trabalha</th>\n",
       "      <th>exposicao_midia</th>\n",
       "      <th>metodo_contraceptivo</th>\n",
       "    </tr>\n",
       "  </thead>\n",
       "  <tbody>\n",
       "    <tr>\n",
       "      <th>count</th>\n",
       "      <td>1473.000000</td>\n",
       "      <td>1473.000000</td>\n",
       "      <td>1473.000000</td>\n",
       "      <td>1473.000000</td>\n",
       "      <td>1473.000000</td>\n",
       "      <td>1473.000000</td>\n",
       "    </tr>\n",
       "    <tr>\n",
       "      <th>mean</th>\n",
       "      <td>32.538357</td>\n",
       "      <td>3.261371</td>\n",
       "      <td>0.850645</td>\n",
       "      <td>0.749491</td>\n",
       "      <td>0.073999</td>\n",
       "      <td>1.919891</td>\n",
       "    </tr>\n",
       "    <tr>\n",
       "      <th>std</th>\n",
       "      <td>8.227245</td>\n",
       "      <td>2.358549</td>\n",
       "      <td>0.356559</td>\n",
       "      <td>0.433453</td>\n",
       "      <td>0.261858</td>\n",
       "      <td>0.876376</td>\n",
       "    </tr>\n",
       "    <tr>\n",
       "      <th>min</th>\n",
       "      <td>16.000000</td>\n",
       "      <td>0.000000</td>\n",
       "      <td>0.000000</td>\n",
       "      <td>0.000000</td>\n",
       "      <td>0.000000</td>\n",
       "      <td>1.000000</td>\n",
       "    </tr>\n",
       "    <tr>\n",
       "      <th>25%</th>\n",
       "      <td>26.000000</td>\n",
       "      <td>1.000000</td>\n",
       "      <td>1.000000</td>\n",
       "      <td>0.000000</td>\n",
       "      <td>0.000000</td>\n",
       "      <td>1.000000</td>\n",
       "    </tr>\n",
       "    <tr>\n",
       "      <th>50%</th>\n",
       "      <td>32.000000</td>\n",
       "      <td>3.000000</td>\n",
       "      <td>1.000000</td>\n",
       "      <td>1.000000</td>\n",
       "      <td>0.000000</td>\n",
       "      <td>2.000000</td>\n",
       "    </tr>\n",
       "    <tr>\n",
       "      <th>75%</th>\n",
       "      <td>39.000000</td>\n",
       "      <td>4.000000</td>\n",
       "      <td>1.000000</td>\n",
       "      <td>1.000000</td>\n",
       "      <td>0.000000</td>\n",
       "      <td>3.000000</td>\n",
       "    </tr>\n",
       "    <tr>\n",
       "      <th>max</th>\n",
       "      <td>49.000000</td>\n",
       "      <td>16.000000</td>\n",
       "      <td>1.000000</td>\n",
       "      <td>1.000000</td>\n",
       "      <td>1.000000</td>\n",
       "      <td>3.000000</td>\n",
       "    </tr>\n",
       "  </tbody>\n",
       "</table>\n",
       "</div>"
      ],
      "text/plain": [
       "       idade_esposa  quantidade_filhos  religiao_esposa  eposa_trabalha  \\\n",
       "count   1473.000000        1473.000000      1473.000000     1473.000000   \n",
       "mean      32.538357           3.261371         0.850645        0.749491   \n",
       "std        8.227245           2.358549         0.356559        0.433453   \n",
       "min       16.000000           0.000000         0.000000        0.000000   \n",
       "25%       26.000000           1.000000         1.000000        0.000000   \n",
       "50%       32.000000           3.000000         1.000000        1.000000   \n",
       "75%       39.000000           4.000000         1.000000        1.000000   \n",
       "max       49.000000          16.000000         1.000000        1.000000   \n",
       "\n",
       "       exposicao_midia  metodo_contraceptivo  \n",
       "count      1473.000000           1473.000000  \n",
       "mean          0.073999              1.919891  \n",
       "std           0.261858              0.876376  \n",
       "min           0.000000              1.000000  \n",
       "25%           0.000000              1.000000  \n",
       "50%           0.000000              2.000000  \n",
       "75%           0.000000              3.000000  \n",
       "max           1.000000              3.000000  "
      ]
     },
     "execution_count": 233,
     "metadata": {},
     "output_type": "execute_result"
    }
   ],
   "source": [
    "df.describe()"
   ]
  },
  {
   "cell_type": "code",
   "execution_count": 234,
   "metadata": {},
   "outputs": [
    {
     "data": {
      "text/plain": [
       "idade_esposa            0\n",
       "educacao_esposa         0\n",
       "educacao_marido         0\n",
       "quantidade_filhos       0\n",
       "religiao_esposa         0\n",
       "eposa_trabalha          0\n",
       "marido_ocupacao         0\n",
       "padrao_de_vida          0\n",
       "exposicao_midia         0\n",
       "metodo_contraceptivo    0\n",
       "dtype: int64"
      ]
     },
     "execution_count": 234,
     "metadata": {},
     "output_type": "execute_result"
    }
   ],
   "source": [
    "df.isnull().sum()"
   ]
  },
  {
   "cell_type": "markdown",
   "metadata": {},
   "source": [
    "# Questão 2 análises"
   ]
  },
  {
   "cell_type": "code",
   "execution_count": 235,
   "metadata": {},
   "outputs": [
    {
     "data": {
      "image/png": "[encoded data removed]",
      "text/plain": [
       "<Figure size 640x480 with 1 Axes>"
      ]
     },
     "metadata": {},
     "output_type": "display_data"
    }
   ],
   "source": [
    "low = df[df['educacao_esposa'] == 'low']\n",
    "quantidade_low = low['educacao_esposa'].count()\n",
    "media_low = low['quantidade_filhos'].sum() / quantidade_low\n",
    "\n",
    "regular = df[df['educacao_esposa'] == 'regular']\n",
    "quantidade_regular = regular['educacao_esposa'].count()\n",
    "media_regular = regular['quantidade_filhos'].sum() / quantidade_regular\n",
    "\n",
    "high = df[df['educacao_esposa'] == 'high']\n",
    "quantidade_high = high['educacao_esposa'].count()\n",
    "media_high = high['quantidade_filhos'].sum() / quantidade_high\n",
    "\n",
    "import matplotlib.pyplot as plt; plt.rcdefaults()\n",
    "import numpy as np\n",
    "import matplotlib.pyplot as plt\n",
    " \n",
    "objects = ('baixo nivel educacao', 'medio nivel educacao', 'alto nivel educacao')\n",
    "y_pos = np.arange(len(objects))\n",
    "performance = [media_low, media_regular, media_high]\n",
    " \n",
    "plt.bar(y_pos, performance, align='center', alpha=0.5)\n",
    "plt.xticks(y_pos, objects)\n",
    "plt.ylabel('Usage')\n",
    "plt.title('Quantidade de Filhos por nivel de educacao')\n",
    " \n",
    "plt.show()"
   ]
  },
  {
   "cell_type": "code",
   "execution_count": 236,
   "metadata": {},
   "outputs": [
    {
     "data": {
      "image/png": "[encoded data removed]",
      "text/plain": [
       "<Figure size 640x480 with 1 Axes>"
      ]
     },
     "metadata": {},
     "output_type": "display_data"
    }
   ],
   "source": [
    "eposa_trabalha = df[df['eposa_trabalha'] == 0]\n",
    "quantidade_eposa_trabalha = eposa_trabalha['eposa_trabalha'].count()\n",
    "eposa_nao_trabalha = df[df['eposa_trabalha'] == 1]\n",
    "quantidade_eposa_nao_trabalha = eposa_nao_trabalha['eposa_trabalha'].count()\n",
    "\n",
    "media_filhos_esposa_trabalha = eposa_trabalha['quantidade_filhos'].sum() / quantidade_eposa_trabalha \n",
    "media_filhos_esposa_nao_trabalha = eposa_nao_trabalha['quantidade_filhos'].sum() / quantidade_eposa_nao_trabalha \n",
    "\n",
    "\n",
    "objects = ('Mulher Trabalha', 'Mulher Nao Trabalha')\n",
    "y_pos = np.arange(len(objects))\n",
    "performance = [media_filhos_esposa_trabalha, media_filhos_esposa_nao_trabalha]\n",
    " \n",
    "plt.bar(y_pos, performance, align='center', alpha=0.5)\n",
    "plt.xticks(y_pos, objects)\n",
    "plt.ylabel('Usage')\n",
    "plt.title('Quantidade de Filhos entre mulheres que trabalham ou nao')\n",
    " \n",
    "plt.show()"
   ]
  },
  {
   "cell_type": "code",
   "execution_count": 237,
   "metadata": {},
   "outputs": [
    {
     "name": "stdout",
     "output_type": "stream",
     "text": [
      "\t Utilização de Metodo Contraceptivo \n",
      "\n",
      "Islam:\n"
     ]
    },
    {
     "data": {
      "image/png": "[encoded data removed]",
      "text/plain": [
       "<Figure size 640x480 with 1 Axes>"
      ]
     },
     "metadata": {},
     "output_type": "display_data"
    },
    {
     "name": "stdout",
     "output_type": "stream",
     "text": [
      "No Islam:\n"
     ]
    },
    {
     "data": {
      "image/png": "[encoded data removed]",
      "text/plain": [
       "<Figure size 640x480 with 1 Axes>"
      ]
     },
     "metadata": {},
     "output_type": "display_data"
    },
    {
     "name": "stdout",
     "output_type": "stream",
     "text": [
      "General:\n"
     ]
    },
    {
     "data": {
      "image/png": "[encoded data removed]",
      "text/plain": [
       "<Figure size 640x480 with 1 Axes>"
      ]
     },
     "metadata": {},
     "output_type": "display_data"
    }
   ],
   "source": [
    "import matplotlib.pyplot as plt\n",
    "\n",
    "religiao = df[df['religiao_esposa'] == 1]\n",
    "quantidade_metodo = religiao[religiao['metodo_contraceptivo'] != 1]['metodo_contraceptivo'].count()\n",
    "quantidade_nao_metodo = religiao[religiao['metodo_contraceptivo'] == 1]['metodo_contraceptivo'].count()\n",
    "\n",
    "# Data to plot\n",
    "labels = 'Utiliza metodo', 'Nao utiliza metodo'\n",
    "sizes = [quantidade_metodo, quantidade_nao_metodo]\n",
    "colors = ['gold', 'yellowgreen']\n",
    "# explode = (0.1, 0, 0, 0)  # explode 1st slice\n",
    "print(\"\\t Utilização de Metodo Contraceptivo \\n\")\n",
    "# Plot\n",
    "plt.pie(sizes, labels=labels, colors=colors,\n",
    "autopct='%1.1f%%', shadow=True, startangle=140)\n",
    "print(\"Islam:\")\n",
    "plt.axis('equal')\n",
    "plt.show()\n",
    "\n",
    "religiao = df[df['religiao_esposa'] == 0]\n",
    "quantidade_metodo = religiao[religiao['metodo_contraceptivo'] != 1]['metodo_contraceptivo'].count()\n",
    "quantidade_nao_metodo = religiao[religiao['metodo_contraceptivo'] == 1]['metodo_contraceptivo'].count()\n",
    "\n",
    "# Data to plot\n",
    "labels = 'Utiliza metodo', 'Nao utiliza metodo'\n",
    "sizes = [quantidade_metodo, quantidade_nao_metodo]\n",
    "colors = ['gold', 'yellowgreen']\n",
    "# explode = (0.1, 0, 0, 0)  # explode 1st slice\n",
    "\n",
    "# Plot\n",
    "plt.pie(sizes, labels=labels, colors=colors,\n",
    "autopct='%1.1f%%', shadow=True, startangle=140)\n",
    "print(\"No Islam:\")\n",
    "plt.axis('equal')\n",
    "plt.show()\n",
    "\n",
    "quantidade_metodo = df[df['metodo_contraceptivo'] != 1]['metodo_contraceptivo'].count()\n",
    "quantidade_nao_metodo = df[df['metodo_contraceptivo'] == 1]['metodo_contraceptivo'].count()\n",
    "\n",
    "labels = 'Utiliza metodo', 'Nao utiliza metodo'\n",
    "sizes = [quantidade_metodo, quantidade_nao_metodo]\n",
    "colors = ['gold', 'yellowgreen']\n",
    "# explode = (0.1, 0, 0, 0)  # explode 1st slice\n",
    "\n",
    "# Plot\n",
    "plt.pie(sizes, labels=labels, colors=colors,\n",
    "autopct='%1.1f%%', shadow=True, startangle=140)\n",
    "print(\"General:\")\n",
    "plt.axis('equal')\n",
    "plt.show()"
   ]
  },
  {
   "cell_type": "markdown",
   "metadata": {},
   "source": [
    "# Questao 3 listagem de algoritmos e comparações"
   ]
  },
  {
   "cell_type": "code",
   "execution_count": 241,
   "metadata": {},
   "outputs": [],
   "source": [
    "# MultinomialNB, OneVsOneClassifier, OneVsRestClassifier\n",
    "x = df.drop(['metodo_contraceptivo'], axis=1)\n",
    "y = df['metodo_contraceptivo']\n",
    "\n",
    "x = pd.get_dummies(x)"
   ]
  },
  {
   "cell_type": "code",
   "execution_count": 240,
   "metadata": {},
   "outputs": [],
   "source": [
    "from scipy.stats import bayes_mvs\n",
    "from sklearn.model_selection import cross_val_score\n",
    "from sklearn.model_selection import train_test_split\n",
    "\n",
    "multinomialNB = MultinomialNB()\n",
    "\n",
    "k = 10\n",
    "scores = cross_val_score(multinomialNB, x, y, cv = k)"
   ]
  },
  {
   "cell_type": "code",
   "execution_count": 238,
   "metadata": {},
   "outputs": [],
   "source": [
    "from scipy.stats import bayes_mvs\n",
    "\n",
    "algoritmo = scores.mean()"
   ]
  },
  {
   "cell_type": "code",
   "execution_count": 239,
   "metadata": {},
   "outputs": [],
   "source": [
    "from sklearn.multiclass import OneVsOneClassifier\n",
    "from sklearn.multiclass import OneVsRestClassifier\n",
    "from sklearn.svm import LinearSVC\n",
    "import warnings\n",
    "\n",
    "warnings.filterwarnings('ignore')\n",
    "\n",
    "modeloOneVsOne = OneVsOneClassifier(LinearSVC(random_state = 0))\n",
    "\n",
    "scores = cross_val_score(modeloOneVsOne,x,y,cv = k)\n",
    "algoritmo1 = scores.mean()"
   ]
  },
  {
   "cell_type": "code",
   "execution_count": 242,
   "metadata": {},
   "outputs": [],
   "source": [
    "modeloOneVsRest = OneVsRestClassifier(LinearSVC(random_state = 0))\n",
    "\n",
    "scores = cross_val_score(modeloOneVsRest,x,y,cv = k)\n",
    "algoritmo2 = scores.mean()"
   ]
  },
  {
   "cell_type": "code",
   "execution_count": 243,
   "metadata": {},
   "outputs": [
    {
     "name": "stdout",
     "output_type": "stream",
     "text": [
      "0.4962492141861453 0.4962492141861453 0.46971406847291747\n"
     ]
    }
   ],
   "source": [
    "print(algoritmo, algoritmo1, algoritmo2)"
   ]
  },
  {
   "cell_type": "markdown",
   "metadata": {},
   "source": [
    "# Questao 4. graficos, matriz confusão e metricas"
   ]
  },
  {
   "cell_type": "code",
   "execution_count": 244,
   "metadata": {},
   "outputs": [
    {
     "data": {
      "image/png": "[encoded data removed]",
      "text/plain": [
       "<Figure size 640x480 with 1 Axes>"
      ]
     },
     "metadata": {},
     "output_type": "display_data"
    }
   ],
   "source": [
    "objects = ('MultinomialNB', 'OneVsOneClassifier','OneVsRestClassifier')\n",
    "y_pos = np.arange(len(objects))\n",
    "performance = [algoritmo*100, algoritmo1*100,algoritmo2*100]\n",
    " \n",
    "plt.bar(y_pos, performance, align='center', alpha=0.5)\n",
    "plt.xticks(y_pos, objects)\n",
    "plt.ylabel('Usage')\n",
    "plt.title('Perfomance dos algoritmos (Acurácia) em %')\n",
    " \n",
    "plt.show()"
   ]
  },
  {
   "cell_type": "code",
   "execution_count": 245,
   "metadata": {},
   "outputs": [
    {
     "name": "stdout",
     "output_type": "stream",
     "text": [
      "Modelo Nomial\n",
      "               precision    recall  f1-score   support\n",
      "\n",
      "     Não usa       0.65      0.49      0.56       174\n",
      " Longo termo       0.40      0.52      0.45        86\n",
      " Médio termo       0.41      0.48      0.44       109\n",
      "\n",
      "   micro avg       0.49      0.49      0.49       369\n",
      "   macro avg       0.49      0.50      0.48       369\n",
      "weighted avg       0.52      0.49      0.50       369\n",
      " \n",
      "Acuracia:  0.4932249322493225\n",
      "\n",
      "Modelo One Vs One\n",
      "               precision    recall  f1-score   support\n",
      "\n",
      "     Não usa       0.72      0.25      0.37       174\n",
      " Longo termo       0.40      0.34      0.37        86\n",
      " Médio termo       0.35      0.76      0.48       109\n",
      "\n",
      "   micro avg       0.42      0.42      0.42       369\n",
      "   macro avg       0.49      0.45      0.40       369\n",
      "weighted avg       0.54      0.42      0.40       369\n",
      " \n",
      "Acuracia:  0.42005420054200543\n",
      "\n",
      "Modelo One Vs Rest\n",
      "               precision    recall  f1-score   support\n",
      "\n",
      "     Não usa       0.71      0.42      0.53       174\n",
      " Longo termo       0.39      0.08      0.13        86\n",
      " Médio termo       0.35      0.80      0.49       109\n",
      "\n",
      "   micro avg       0.45      0.45      0.45       369\n",
      "   macro avg       0.48      0.43      0.38       369\n",
      "weighted avg       0.53      0.45      0.42       369\n",
      " \n",
      "Acuracia:  0.45257452574525747\n"
     ]
    }
   ],
   "source": [
    "from sklearn.metrics import classification_report\n",
    "from sklearn.model_selection import train_test_split\n",
    "from sklearn.metrics import accuracy_score\n",
    "\n",
    "x_treino, x_teste, y_treino, y_teste = train_test_split(x, y, test_size=0.25, random_state=0)\n",
    "\n",
    "multinomialNB.fit(x_treino, y_treino)\n",
    "\n",
    "y_true = y_teste.values\n",
    "y_pred = multinomialNB.predict(x_teste)\n",
    "\n",
    "target_names = ['Não usa', 'Longo termo', 'Médio termo']\n",
    "\n",
    "print(\"Modelo Nomial\\n\",classification_report(y_true, y_pred, target_names=target_names),\"\\nAcuracia: \", accuracy_score(y_true, y_pred))\n",
    "\n",
    "modeloOneVsOne.fit(x_treino, y_treino)\n",
    "\n",
    "y_true = y_teste.values\n",
    "y_pred = modeloOneVsOne.predict(x_teste)\n",
    "\n",
    "target_names = ['Não usa', 'Longo termo', 'Médio termo']\n",
    "print(\"\\nModelo One Vs One\\n\",classification_report(y_true, y_pred, target_names=target_names),\"\\nAcuracia: \", accuracy_score(y_true, y_pred))\n",
    "\n",
    "modeloOneVsRest.fit(x_treino, y_treino)\n",
    "\n",
    "y_true = y_teste.values\n",
    "y_pred = modeloOneVsRest.predict(x_teste)\n",
    "\n",
    "target_names = ['Não usa', 'Longo termo', 'Médio termo']\n",
    "print(\"\\nModelo One Vs Rest\\n\",classification_report(y_true, y_pred, target_names=target_names),\"\\nAcuracia: \", accuracy_score(y_true, y_pred))"
   ]
  },
  {
   "cell_type": "code",
   "execution_count": 248,
   "metadata": {},
   "outputs": [
    {
     "data": {
      "text/html": [
       "<div>\n",
       "<style scoped>\n",
       "    .dataframe tbody tr th:only-of-type {\n",
       "        vertical-align: middle;\n",
       "    }\n",
       "\n",
       "    .dataframe tbody tr th {\n",
       "        vertical-align: top;\n",
       "    }\n",
       "\n",
       "    .dataframe thead th {\n",
       "        text-align: right;\n",
       "    }\n",
       "</style>\n",
       "<table border=\"1\" class=\"dataframe\">\n",
       "  <thead>\n",
       "    <tr style=\"text-align: right;\">\n",
       "      <th>Predito</th>\n",
       "      <th>1</th>\n",
       "      <th>2</th>\n",
       "      <th>3</th>\n",
       "      <th>All</th>\n",
       "    </tr>\n",
       "    <tr>\n",
       "      <th>Real</th>\n",
       "      <th></th>\n",
       "      <th></th>\n",
       "      <th></th>\n",
       "      <th></th>\n",
       "    </tr>\n",
       "  </thead>\n",
       "  <tbody>\n",
       "    <tr>\n",
       "      <th>1</th>\n",
       "      <td>85</td>\n",
       "      <td>40</td>\n",
       "      <td>49</td>\n",
       "      <td>174</td>\n",
       "    </tr>\n",
       "    <tr>\n",
       "      <th>2</th>\n",
       "      <td>16</td>\n",
       "      <td>45</td>\n",
       "      <td>25</td>\n",
       "      <td>86</td>\n",
       "    </tr>\n",
       "    <tr>\n",
       "      <th>3</th>\n",
       "      <td>29</td>\n",
       "      <td>28</td>\n",
       "      <td>52</td>\n",
       "      <td>109</td>\n",
       "    </tr>\n",
       "    <tr>\n",
       "      <th>All</th>\n",
       "      <td>130</td>\n",
       "      <td>113</td>\n",
       "      <td>126</td>\n",
       "      <td>369</td>\n",
       "    </tr>\n",
       "  </tbody>\n",
       "</table>\n",
       "</div>"
      ],
      "text/plain": [
       "Predito    1    2    3  All\n",
       "Real                       \n",
       "1         85   40   49  174\n",
       "2         16   45   25   86\n",
       "3         29   28   52  109\n",
       "All      130  113  126  369"
      ]
     },
     "execution_count": 248,
     "metadata": {},
     "output_type": "execute_result"
    }
   ],
   "source": [
    "pd.crosstab(y_teste, multinomialNB.predict(x_teste),\n",
    "           rownames=['Real'], colnames=['Predito'],\n",
    "           margins=True)"
   ]
  },
  {
   "cell_type": "code",
   "execution_count": 247,
   "metadata": {},
   "outputs": [
    {
     "data": {
      "text/html": [
       "<div>\n",
       "<style scoped>\n",
       "    .dataframe tbody tr th:only-of-type {\n",
       "        vertical-align: middle;\n",
       "    }\n",
       "\n",
       "    .dataframe tbody tr th {\n",
       "        vertical-align: top;\n",
       "    }\n",
       "\n",
       "    .dataframe thead th {\n",
       "        text-align: right;\n",
       "    }\n",
       "</style>\n",
       "<table border=\"1\" class=\"dataframe\">\n",
       "  <thead>\n",
       "    <tr style=\"text-align: right;\">\n",
       "      <th>Predito</th>\n",
       "      <th>1</th>\n",
       "      <th>2</th>\n",
       "      <th>3</th>\n",
       "      <th>All</th>\n",
       "    </tr>\n",
       "    <tr>\n",
       "      <th>Real</th>\n",
       "      <th></th>\n",
       "      <th></th>\n",
       "      <th></th>\n",
       "      <th></th>\n",
       "    </tr>\n",
       "  </thead>\n",
       "  <tbody>\n",
       "    <tr>\n",
       "      <th>1</th>\n",
       "      <td>43</td>\n",
       "      <td>25</td>\n",
       "      <td>106</td>\n",
       "      <td>174</td>\n",
       "    </tr>\n",
       "    <tr>\n",
       "      <th>2</th>\n",
       "      <td>9</td>\n",
       "      <td>29</td>\n",
       "      <td>48</td>\n",
       "      <td>86</td>\n",
       "    </tr>\n",
       "    <tr>\n",
       "      <th>3</th>\n",
       "      <td>8</td>\n",
       "      <td>18</td>\n",
       "      <td>83</td>\n",
       "      <td>109</td>\n",
       "    </tr>\n",
       "    <tr>\n",
       "      <th>All</th>\n",
       "      <td>60</td>\n",
       "      <td>72</td>\n",
       "      <td>237</td>\n",
       "      <td>369</td>\n",
       "    </tr>\n",
       "  </tbody>\n",
       "</table>\n",
       "</div>"
      ],
      "text/plain": [
       "Predito   1   2    3  All\n",
       "Real                     \n",
       "1        43  25  106  174\n",
       "2         9  29   48   86\n",
       "3         8  18   83  109\n",
       "All      60  72  237  369"
      ]
     },
     "execution_count": 247,
     "metadata": {},
     "output_type": "execute_result"
    }
   ],
   "source": [
    "pd.crosstab(y_teste, modeloOneVsOne.predict(x_teste),\n",
    "           rownames=['Real'], colnames=['Predito'],\n",
    "           margins=True)"
   ]
  },
  {
   "cell_type": "code",
   "execution_count": 246,
   "metadata": {},
   "outputs": [
    {
     "data": {
      "text/html": [
       "<div>\n",
       "<style scoped>\n",
       "    .dataframe tbody tr th:only-of-type {\n",
       "        vertical-align: middle;\n",
       "    }\n",
       "\n",
       "    .dataframe tbody tr th {\n",
       "        vertical-align: top;\n",
       "    }\n",
       "\n",
       "    .dataframe thead th {\n",
       "        text-align: right;\n",
       "    }\n",
       "</style>\n",
       "<table border=\"1\" class=\"dataframe\">\n",
       "  <thead>\n",
       "    <tr style=\"text-align: right;\">\n",
       "      <th>Predito</th>\n",
       "      <th>1</th>\n",
       "      <th>2</th>\n",
       "      <th>3</th>\n",
       "      <th>All</th>\n",
       "    </tr>\n",
       "    <tr>\n",
       "      <th>Real</th>\n",
       "      <th></th>\n",
       "      <th></th>\n",
       "      <th></th>\n",
       "      <th></th>\n",
       "    </tr>\n",
       "  </thead>\n",
       "  <tbody>\n",
       "    <tr>\n",
       "      <th>1</th>\n",
       "      <td>73</td>\n",
       "      <td>5</td>\n",
       "      <td>96</td>\n",
       "      <td>174</td>\n",
       "    </tr>\n",
       "    <tr>\n",
       "      <th>2</th>\n",
       "      <td>14</td>\n",
       "      <td>7</td>\n",
       "      <td>65</td>\n",
       "      <td>86</td>\n",
       "    </tr>\n",
       "    <tr>\n",
       "      <th>3</th>\n",
       "      <td>16</td>\n",
       "      <td>6</td>\n",
       "      <td>87</td>\n",
       "      <td>109</td>\n",
       "    </tr>\n",
       "    <tr>\n",
       "      <th>All</th>\n",
       "      <td>103</td>\n",
       "      <td>18</td>\n",
       "      <td>248</td>\n",
       "      <td>369</td>\n",
       "    </tr>\n",
       "  </tbody>\n",
       "</table>\n",
       "</div>"
      ],
      "text/plain": [
       "Predito    1   2    3  All\n",
       "Real                      \n",
       "1         73   5   96  174\n",
       "2         14   7   65   86\n",
       "3         16   6   87  109\n",
       "All      103  18  248  369"
      ]
     },
     "execution_count": 246,
     "metadata": {},
     "output_type": "execute_result"
    }
   ],
   "source": [
    "pd.crosstab(y_teste, modeloOneVsRest.predict(x_teste),\n",
    "           rownames=['Real'], colnames=['Predito'],\n",
    "           margins=True)"
   ]
  },
  {
   "cell_type": "code",
   "execution_count": 249,
   "metadata": {},
   "outputs": [],
   "source": [
    "column = \"idade_esposa\"\n",
    "menor_igual20 = df[column] <= 20\n",
    "maior20menor_igual30 = (df[column] > 20) & (df[column] <=30)\n",
    "maior30_menor_igual50 = (df[column] > 30) & (df[column] <=50)\n",
    "maior50 = df[column] > 50\n",
    "df.loc[menor_igual20, column] = 'menor igual a 20'\n",
    "df.loc[maior20menor_igual30, column] = 'maior 20 menor igual 30'\n",
    "df.loc[maior30_menor_igual50, column] = 'maior 30 menor igual 50'\n",
    "df.loc[maior50, column] = 'maior 50'\n",
    "\n",
    "df = df.sample(frac=1)\n",
    "x = df.drop(['metodo_contraceptivo'], axis=1)\n",
    "x = pd.get_dummies(x)\n",
    "y = df['metodo_contraceptivo']"
   ]
  },
  {
   "cell_type": "code",
   "execution_count": 254,
   "metadata": {},
   "outputs": [],
   "source": [
    "multinomialNB = MultinomialNB()\n",
    "k = 10\n",
    "scores = cross_val_score(multinomialNB, x, y, cv = k)\n",
    "algoritmo_versao2 = scores.mean()"
   ]
  },
  {
   "cell_type": "code",
   "execution_count": 253,
   "metadata": {},
   "outputs": [],
   "source": [
    "modeloOneVsOne = OneVsOneClassifier(LinearSVC(random_state = 0))\n",
    "\n",
    "scores = cross_val_score(modeloOneVsOne,x,y,cv = k)\n",
    "algoritmo1_versao2 = scores.mean()"
   ]
  },
  {
   "cell_type": "code",
   "execution_count": 252,
   "metadata": {},
   "outputs": [],
   "source": [
    "modeloOneVsRest = OneVsRestClassifier(LinearSVC(random_state = 0))\n",
    "\n",
    "scores = cross_val_score(modeloOneVsRest,x,y,cv = k)\n",
    "algoritmo2_versao2 = scores.mean()"
   ]
  },
  {
   "cell_type": "code",
   "execution_count": 251,
   "metadata": {},
   "outputs": [
    {
     "name": "stdout",
     "output_type": "stream",
     "text": [
      "0.4900945284772889 0.4962492141861453 0.5071200279519932\n"
     ]
    }
   ],
   "source": [
    "print(algoritmo_versao2, algoritmo1_versao2, algoritmo2_versao2)"
   ]
  },
  {
   "cell_type": "code",
   "execution_count": 250,
   "metadata": {},
   "outputs": [],
   "source": [
    "df = pd.read_csv('dataset.csv')\n",
    "\n",
    "multinomialNB = MultinomialNB()\n",
    "k = 10\n",
    "score = cross_val_score(multinomialNB, x, y, cv = k)\n",
    "algoritmo_integra = scores.mean()"
   ]
  },
  {
   "cell_type": "code",
   "execution_count": 257,
   "metadata": {},
   "outputs": [],
   "source": [
    "modeloOneVsOne = OneVsOneClassifier(LinearSVC(random_state = 0))\n",
    "\n",
    "scores = cross_val_score(modeloOneVsOne,x,y,cv = k)\n",
    "algoritmo1_integra = scores.mean()"
   ]
  },
  {
   "cell_type": "code",
   "execution_count": 255,
   "metadata": {},
   "outputs": [],
   "source": [
    "modeloOneVsRest = OneVsRestClassifier(LinearSVC(random_state = 0))\n",
    "\n",
    "scores = cross_val_score(modeloOneVsRest,x,y,cv = k)\n",
    "algoritmo2_integra = scores.mean()"
   ]
  },
  {
   "cell_type": "code",
   "execution_count": 258,
   "metadata": {},
   "outputs": [
    {
     "name": "stdout",
     "output_type": "stream",
     "text": [
      "0.46971406847291747 0.5030326152113279 0.5071234419984731\n"
     ]
    }
   ],
   "source": [
    "print(algoritmo_integra, algoritmo1_integra, algoritmo2_integra)"
   ]
  },
  {
   "cell_type": "code",
   "execution_count": 256,
   "metadata": {},
   "outputs": [
    {
     "data": {
      "text/html": [
       "<iframe id=\"igraph\" scrolling=\"no\" style=\"border:none;\" seamless=\"seamless\" src=\"https://plot.ly/~fabiomsrs/4.embed\" height=\"525px\" width=\"100%\"></iframe>"
      ],
      "text/plain": [
       "<plotly.tools.PlotlyDisplay object>"
      ]
     },
     "execution_count": 256,
     "metadata": {},
     "output_type": "execute_result"
    }
   ],
   "source": [
    "import plotly\n",
    "import plotly.plotly as py\n",
    "import plotly.graph_objs as go\n",
    "\n",
    "trace = go.Bar(\n",
    "    x=['MultinomialNB', 'OneVsOneClassifier','OneVsRestClassifier'],\n",
    "    y=[algoritmo_integra, algoritmo1_integra, algoritmo2_integra],\n",
    "    name='dataset íntegro'\n",
    ")\n",
    "trace1 = go.Bar(\n",
    "    x=['MultinomialNB v2', 'OneVsOneClassifier v1','OneVsRestClassifier v1'],\n",
    "    y=[algoritmo, algoritmo1, algoritmo2],\n",
    "    name='dataset v2'\n",
    ")\n",
    "\n",
    "trace2 = go.Bar(\n",
    "    x=['MultinomialNB v3', 'OneVsOneClassifier v2','OneVsRestClassifier v2'],\n",
    "    y=[algoritmo_versao2, algoritmo1_versao2, algoritmo2_versao2],\n",
    "    name='dataset v3'\n",
    ")\n",
    "\n",
    "\n",
    "data = [trace,trace1, trace2]\n",
    "layout = go.Layout(\n",
    "    barmode='group'\n",
    ")\n",
    "\n",
    "plotly.tools.set_credentials_file(username='fabiomsrs', api_key='kaim3eXD0bQjCmwB3v5A')\n",
    "\n",
    "fig = go.Figure(data=data, layout=layout)\n",
    "py.iplot(fig, filename='grouped-bar')"
   ]
  },
  {
   "cell_type": "code",
   "execution_count": null,
   "metadata": {},
   "outputs": [],
   "source": []
  }
 ],
 "metadata": {
  "kernelspec": {
   "display_name": "Python 3",
   "language": "python",
   "name": "python3"
  },
  "language_info": {
   "codemirror_mode": {
    "name": "ipython",
    "version": 3
   },
   "file_extension": ".py",
   "mimetype": "text/x-python",
   "name": "python",
   "nbconvert_exporter": "python",
   "pygments_lexer": "ipython3",
   "version": "3.6.5"
  }
 },
 "nbformat": 4,
 "nbformat_minor": 2
}
